{
  "cells": [
    {
      "attachments": {},
      "cell_type": "markdown",
      "metadata": {},
      "source": [
        "# Simple DPS calculator for Pathfinder CRPG\n",
        "\n",
        "Quickstart:\n",
        "1. Use Run -> Run All Cells\n",
        "\n",
        "![image.png](attachment:image.png)\n",
        "\n",
        "2. Scroll all the way down, input your numbers, see plot changes immediately (as fast as your pc and browser recalculates them)\n",
        "\n",
        "Use \"Comparison mode\" to compare two damage setups."
      ]
    },
    {
      "cell_type": "code",
      "execution_count": 61,
      "metadata": {
        "trusted": true
      },
      "outputs": [],
      "source": [
        "def calc_chances(required_ac, crit_range_threshold=20, crit_autoconfirm=False, crit_confirm_bonus=0):\n",
        "    effective_ac = required_ac if required_ac < 20 else 20\n",
        "    effective_ac = 2 if effective_ac < 2 else effective_ac\n",
        "    effective_crit_ac = required_ac - \\\n",
        "        crit_confirm_bonus if required_ac - crit_confirm_bonus < 20 else 20\n",
        "    effective_crit_ac = 2 if effective_crit_ac < 2 else effective_crit_ac\n",
        "    crit_range = crit_range_threshold if crit_range_threshold >= effective_ac else effective_ac\n",
        "    total = 0\n",
        "    crit_confirm_chance = (21.0 - effective_crit_ac) / 20\n",
        "    if crit_autoconfirm:\n",
        "        crit_confirm_chance = 1\n",
        "    return ((21.0 - effective_ac) / 20, (21.0 - crit_range) / 20, crit_confirm_chance)\n",
        "\n",
        "\n",
        "def calc_damage(required_ac, damage, crit_range_threshold=20, crit_mult=2, crit_autoconfirm=False, crit_confirm_bonus=0):\n",
        "    to_hit, crit_chance, crit_confirm_chance = calc_chances(\n",
        "        required_ac, crit_range_threshold, crit_autoconfirm, crit_confirm_bonus)\n",
        "    total = to_hit + crit_chance * crit_confirm_chance * (crit_mult - 1)\n",
        "    return damage * total\n",
        "\n",
        "\n",
        "def calculate_series(attacks, enemy_ac, damage, crit_range_threshold, crit_mult, crit_autoconfirm, crit_confirm_bonus):\n",
        "    total = 0\n",
        "    for atk in attacks:\n",
        "        total += calc_damage(enemy_ac - atk, damage, crit_range_threshold,\n",
        "                             crit_mult, crit_autoconfirm, crit_confirm_bonus)\n",
        "    return total\n"
      ]
    },
    {
      "cell_type": "code",
      "execution_count": 62,
      "metadata": {
        "trusted": true
      },
      "outputs": [],
      "source": [
        "import matplotlib.pyplot as plt\n",
        "import numpy as np\n",
        "\n",
        "try:\n",
        "    import piplite\n",
        "    await piplite.install(['ipywidgets'])\n",
        "except ImportError:\n",
        "    pass\n",
        "\n",
        "from ipywidgets import interact, interactive, fixed, interact_manual\n",
        "import ipywidgets as widgets\n"
      ]
    },
    {
      "cell_type": "code",
      "execution_count": 63,
      "metadata": {
        "trusted": true
      },
      "outputs": [],
      "source": [
        "class Attack:\n",
        "    def __init__(self, ab: int = 0, dmg: float = 1, add_non_crit_dmg: float = 0, crit_range: int = 20, crit_mult: int = 2, crit_autoconfirm: bool = False, crit_confirm_bonus: int = 0):\n",
        "        self.ab = ab\n",
        "        self.dmg = dmg\n",
        "        self.add_non_crit_dmg = add_non_crit_dmg\n",
        "        self.crit_range = crit_range\n",
        "        self.crit_mult = crit_mult\n",
        "        self.crit_autoconfirm = crit_autoconfirm\n",
        "        self.crit_confirm_bonus = crit_confirm_bonus\n",
        "\n",
        "\n",
        "class FullAttack:\n",
        "    def __init__(self, ab: int, add_attacks: list[Attack], iteratives: int, bonus_attacks: int, twf_attacks: int, twf_penalty: int, dmg: float, add_non_crit_dmg: float, crit_range: int, crit_mult: int, crit_autoconfirm: bool, crit_confirm_bonus: int, label):\n",
        "        self.ab = ab\n",
        "        self.add_attacks = add_attacks\n",
        "        self.iteratives = iteratives\n",
        "        self.bonus_attacks = bonus_attacks\n",
        "        self.twf_attacks = twf_attacks\n",
        "        self.dmg = dmg\n",
        "        self.add_non_crit_dmg = add_non_crit_dmg\n",
        "        self.crit_range = crit_range\n",
        "        self.crit_mult = crit_mult\n",
        "        self.crit_autoconfirm = crit_autoconfirm\n",
        "        self.crit_confirm_bonus = crit_confirm_bonus\n",
        "        self.label = label\n"
      ]
    },
    {
      "cell_type": "code",
      "execution_count": 64,
      "metadata": {
        "trusted": true
      },
      "outputs": [],
      "source": [
        "def calc_damage_atk(enemy_ac: int, attack: Attack):\n",
        "    to_hit, crit_chance, crit_confirm_chance = calc_chances(\n",
        "        enemy_ac - attack.ab, attack.crit_range, attack.crit_autoconfirm, attack.crit_confirm_bonus)\n",
        "    total = to_hit + crit_chance * crit_confirm_chance * (attack.crit_mult - 1)\n",
        "    return attack.dmg * total + to_hit * attack.add_non_crit_dmg\n",
        "\n",
        "\n",
        "def calc_damage_fatk(enemy_ac: int, attack: FullAttack):\n",
        "    to_hit, crit_chance, crit_confirm_chance = calc_chances(\n",
        "        enemy_ac, attack.crit_range, attack.crit_autoconfirm, attack.crit_confirm_bonus)\n",
        "    total = to_hit + crit_chance * crit_confirm_chance * (attack.crit_mult - 1)\n",
        "    return attack.dmg * total + to_hit * attack.add_non_crit_dmg\n",
        "\n",
        "\n",
        "def calculate_full_attack(attacks, enemy_ac: int, full_attack: FullAttack):\n",
        "    total = 0\n",
        "    for atk in attacks:\n",
        "        total += calc_damage_fatk(enemy_ac - atk, full_attack)\n",
        "    for batk in full_attack.add_attacks:\n",
        "        total += calc_damage_atk(enemy_ac, batk)\n",
        "    return total\n",
        "\n",
        "\n",
        "def get_attacks(full_attack: FullAttack):\n",
        "    attack_list: list[int] = [full_attack.ab]\n",
        "    if full_attack.iteratives > 0:\n",
        "        for x in range(1, full_attack.iteratives + 1):\n",
        "            attack_list.append(full_attack.ab - x * 5)\n",
        "    if full_attack.bonus_attacks > 0:\n",
        "        for x in range(1, full_attack.bonus_attacks + 1):\n",
        "            attack_list.append(full_attack.ab)\n",
        "    if full_attack.twf_attacks > 0:\n",
        "        for x in range(0, full_attack.twf_attacks):\n",
        "            attack_list.append(\n",
        "                full_attack.ab - full_attack.twf_penalty - x * 5)\n",
        "    return np.array(attack_list)\n"
      ]
    },
    {
      "cell_type": "code",
      "execution_count": 65,
      "metadata": {
        "trusted": true
      },
      "outputs": [],
      "source": [
        "def calculate_dps_obj(full_attack_1: FullAttack, draw_2: bool, full_attack_2: FullAttack):\n",
        "    attacks = get_attacks(full_attack_1)\n",
        "    ac_min = attacks.min()\n",
        "    ac_max = (attacks.max()) + 21\n",
        "\n",
        "    if draw_2:\n",
        "        attacks_2 = get_attacks(full_attack_2)\n",
        "        ac_min = min(attacks_2.min(), ac_min)\n",
        "        ac_max = max(attacks_2.max() + 21, ac_max)\n",
        "\n",
        "    enemy_ac_range = np.arange(ac_min, ac_max, 1)\n",
        "\n",
        "    dmg_distr = np.array([calculate_full_attack(\n",
        "        attacks, xi, full_attack_1) for xi in enemy_ac_range])\n",
        "    plt.plot(enemy_ac_range, dmg_distr, label=full_attack_1.label)\n",
        "    if draw_2:\n",
        "        dmg_distr_2 = np.array([calculate_full_attack(\n",
        "            attacks_2, xi, full_attack_2) for xi in enemy_ac_range])\n",
        "        plt.plot(enemy_ac_range, dmg_distr_2, label=full_attack_2.label)\n",
        "\n",
        "    plt.xlabel('enemy AC')\n",
        "    plt.ylabel('damage')\n",
        "    plt.grid(True)\n",
        "    plt.legend()\n",
        "    plt.title('Damage per full attack')\n",
        "    plt.ylim(ymin=0)\n",
        "    plt.show()\n",
        "\n",
        "    if draw_2:\n",
        "        coef_dmg = dmg_distr_2 / dmg_distr\n",
        "        plt.plot(enemy_ac_range, coef_dmg,\n",
        "                 label=full_attack_2.label + \"/\" + full_attack_1.label)\n",
        "        plt.xlabel('enemy AC')\n",
        "        plt.ylabel('coef')\n",
        "        plt.axhline(y=1.0, color='r', linestyle='-')\n",
        "        plt.grid(True)\n",
        "        plt.legend()\n",
        "        plt.title('Dps difference')\n",
        "        plt.ylim(ymin=0)\n",
        "        plt.show()\n"
      ]
    },
    {
      "cell_type": "code",
      "execution_count": 66,
      "metadata": {
        "trusted": true
      },
      "outputs": [],
      "source": [
        "ab = widgets.BoundedIntText(\n",
        "    value=0, min=-100, max=400, description='Total AB:')\n",
        "iteratives = widgets.BoundedIntText(\n",
        "    value=0, min=0, max=10, description='Iteratives:')\n",
        "bonus_attacks = widgets.BoundedIntText(\n",
        "    value=0, min=0, max=20, description='Bonus attacks:')\n",
        "twf_attacks = widgets.BoundedIntText(\n",
        "    value=0, min=0, max=3, description='TWF attacks:')\n",
        "twf_penalty = widgets.BoundedIntText(\n",
        "    value=0, min=0, max=12, description='TWF Penalty:')\n",
        "crit_range = widgets.BoundedIntText(\n",
        "    value=20, min=0, max=20, description='crit range:')\n",
        "crit_mult = widgets.BoundedIntText(\n",
        "    value=2, min=1, max=10, description='crit mult:')\n",
        "crit_autoconfirm = widgets.Checkbox(\n",
        "    value=False, description='crit autoconfirm')\n",
        "crit_confirm_bonus = widgets.BoundedIntText(\n",
        "    value=0, min=-100, max=100, description='crit confirm bonus:')\n",
        "\n",
        "dmg = widgets.BoundedFloatText(value=1, min=1, max=1000, description='Damage:')\n",
        "add_non_crit_dmg = widgets.BoundedFloatText(\n",
        "    value=0, min=0, max=1000, description='Non-crit:')\n",
        "\n",
        "graph_label = widgets.Text(value='setup1', placeholder='Graph label')\n",
        "\n",
        "atk_ui = widgets.Box([ab, iteratives, bonus_attacks, twf_attacks, twf_penalty])\n",
        "crit_ui = widgets.Box(\n",
        "    [crit_range, crit_mult, crit_autoconfirm, crit_confirm_bonus])\n",
        "dmg_ui = widgets.Box([dmg, add_non_crit_dmg, graph_label])\n",
        "\n",
        "ui = widgets.VBox([atk_ui, crit_ui, dmg_ui])\n"
      ]
    },
    {
      "cell_type": "code",
      "execution_count": 67,
      "metadata": {
        "trusted": true
      },
      "outputs": [],
      "source": [
        "ab_c = widgets.BoundedIntText(\n",
        "    value=0, min=-100, max=400, description='Total AB:')\n",
        "iteratives_c = widgets.BoundedIntText(\n",
        "    value=0, min=0, max=10, description='Iteratives:')\n",
        "bonus_attacks_c = widgets.BoundedIntText(\n",
        "    value=0, min=0, max=20, description='Bonus attacks:')\n",
        "twf_attacks_c = widgets.BoundedIntText(\n",
        "    value=0, min=0, max=3, description='TWF attacks:')\n",
        "twf_penalty_c = widgets.BoundedIntText(\n",
        "    value=0, min=0, max=12, description='TWF Penalty:')\n",
        "crit_range_c = widgets.BoundedIntText(\n",
        "    value=20, min=0, max=20, description='crit range:')\n",
        "crit_mult_c = widgets.BoundedIntText(\n",
        "    value=2, min=1, max=10, description='crit mult:')\n",
        "crit_autoconfirm_c = widgets.Checkbox(\n",
        "    value=False, description='crit autoconfirm')\n",
        "crit_confirm_bonus_c = widgets.BoundedIntText(\n",
        "    value=0, min=-100, max=100, description='crit confirm bonus:')\n",
        "\n",
        "dmg_c = widgets.BoundedFloatText(\n",
        "    value=1, min=1, max=1000, description='Damage:')\n",
        "add_non_crit_dmg_c = widgets.BoundedFloatText(\n",
        "    value=0, min=0, max=1000, description='Non-crit:')\n",
        "\n",
        "graph_label_c = widgets.Text(value='setup2', placeholder='Graph label')\n",
        "\n",
        "atk_ui_c = widgets.Box(\n",
        "    [ab_c, iteratives_c, bonus_attacks_c, twf_attacks_c, twf_penalty_c])\n",
        "crit_ui_c = widgets.Box(\n",
        "    [crit_range_c, crit_mult_c, crit_autoconfirm_c, crit_confirm_bonus_c])\n",
        "dmg_ui_c = widgets.Box([dmg_c, add_non_crit_dmg_c, graph_label_c])\n",
        "\n",
        "ui_c = widgets.VBox([atk_ui_c, crit_ui_c, dmg_ui_c])\n"
      ]
    },
    {
      "cell_type": "markdown",
      "metadata": {},
      "source": [
        "## Section below for adding custom attacks that don't fall under typical main hand\n",
        "\n",
        "First block for setup 1, second block for setup 2\n",
        "\n",
        "You will have to re-run cells for those changes to be applied, unlike widget changes, which are reflected immediately on graph"
      ]
    },
    {
      "cell_type": "code",
      "execution_count": 68,
      "metadata": {
        "trusted": true
      },
      "outputs": [],
      "source": [
        "add_attack_1 = [\n",
        "    # Attack(\n",
        "    #     ab = 0,\n",
        "    #     dmg = 10,\n",
        "    #     add_non_crit_dmg = 0,\n",
        "    #     crit_range = 20,\n",
        "    #     crit_mult = 2,\n",
        "    #     crit_autoconfirm = False,\n",
        "    #     crit_confirm_bonus = 0\n",
        "    # ),\n",
        "    # Attack(\n",
        "    #     ab = -5,\n",
        "    #     dmg = 15,\n",
        "    #     add_non_crit_dmg = 0,\n",
        "    #     crit_range = 20,\n",
        "    #     crit_mult = 2,\n",
        "    #     crit_autoconfirm = False,\n",
        "    #     crit_confirm_bonus = 0\n",
        "    # )\n",
        "]\n"
      ]
    },
    {
      "cell_type": "code",
      "execution_count": 69,
      "metadata": {
        "trusted": true
      },
      "outputs": [],
      "source": [
        "add_attack_2 = []\n"
      ]
    },
    {
      "cell_type": "code",
      "execution_count": 70,
      "metadata": {
        "trusted": true
      },
      "outputs": [],
      "source": [
        "comparison_mode = widgets.Checkbox(\n",
        "    value=False,\n",
        "    description='Comparison mode',\n",
        "    disabled=False,\n",
        "    indent=False\n",
        ")\n",
        "\n",
        "ui_total = widgets.VBox([ui, comparison_mode, ui_c])\n",
        "\n",
        "\n",
        "def interact_fun(comparison_mode,\n",
        "                 ab, iteratives, bonus_attacks, twf_attacks, twf_penalty, dmg, add_non_crit_dmg, crit_range, crit_mult, crit_autoconfirm, crit_confirm_bonus, graph_label,\n",
        "                 ab_c, iteratives_c, bonus_attacks_c, twf_attacks_c, twf_penalty_c, dmg_c, add_non_crit_dmg_c, crit_range_c, crit_mult_c, crit_autoconfirm_c, crit_confirm_bonus_c, graph_label_c\n",
        "                 ):\n",
        "    if comparison_mode:\n",
        "        ui_c.layout.display = ''\n",
        "    else:\n",
        "        ui_c.layout.display = 'none'\n",
        "\n",
        "    atk1 = FullAttack(\n",
        "        ab=ab,\n",
        "        add_attacks=add_attack_1,\n",
        "        iteratives=iteratives,\n",
        "        bonus_attacks=bonus_attacks,\n",
        "        twf_attacks=twf_attacks,\n",
        "        twf_penalty=twf_penalty,\n",
        "        dmg=dmg,\n",
        "        add_non_crit_dmg=add_non_crit_dmg,\n",
        "        crit_range=crit_range,\n",
        "        crit_mult=crit_mult,\n",
        "        crit_autoconfirm=crit_autoconfirm,\n",
        "        crit_confirm_bonus=crit_confirm_bonus,\n",
        "        label=graph_label\n",
        "    )\n",
        "    atk2 = FullAttack(\n",
        "        ab=ab_c,\n",
        "        add_attacks=[],\n",
        "        iteratives=iteratives_c,\n",
        "        bonus_attacks=bonus_attacks_c,\n",
        "        twf_attacks=twf_attacks_c,\n",
        "        twf_penalty=twf_penalty_c,\n",
        "        dmg=dmg_c,\n",
        "        add_non_crit_dmg=add_non_crit_dmg_c,\n",
        "        crit_range=crit_range_c,\n",
        "        crit_mult=crit_mult_c,\n",
        "        crit_autoconfirm=crit_autoconfirm_c,\n",
        "        crit_confirm_bonus=crit_confirm_bonus_c,\n",
        "        label=graph_label_c\n",
        "    )\n",
        "    calculate_dps_obj(atk1, comparison_mode, atk2)\n",
        "\n",
        "\n",
        "out = widgets.interactive_output(interact_fun,\n",
        "                                 {\n",
        "                                     'comparison_mode': comparison_mode,\n",
        "                                     'ab': ab,\n",
        "                                     'iteratives': iteratives,\n",
        "                                     'bonus_attacks': bonus_attacks,\n",
        "                                     'twf_attacks': twf_attacks,\n",
        "                                     'twf_penalty': twf_penalty,\n",
        "                                     'dmg': dmg,\n",
        "                                     'add_non_crit_dmg': add_non_crit_dmg,\n",
        "                                     'crit_range': crit_range,\n",
        "                                     'crit_mult': crit_mult,\n",
        "                                     'crit_autoconfirm': crit_autoconfirm,\n",
        "                                     'crit_confirm_bonus': crit_confirm_bonus,\n",
        "                                     'graph_label': graph_label,\n",
        "\n",
        "                                     'ab_c': ab_c,\n",
        "                                     'iteratives_c': iteratives_c,\n",
        "                                     'bonus_attacks_c': bonus_attacks_c,\n",
        "                                     'twf_attacks_c': twf_attacks_c,\n",
        "                                     'twf_penalty_c': twf_penalty_c,\n",
        "                                     'dmg_c': dmg_c,\n",
        "                                     'add_non_crit_dmg_c': add_non_crit_dmg_c,\n",
        "                                     'crit_range_c': crit_range_c,\n",
        "                                     'crit_mult_c': crit_mult_c,\n",
        "                                     'crit_autoconfirm_c': crit_autoconfirm_c,\n",
        "                                     'crit_confirm_bonus_c': crit_confirm_bonus_c,\n",
        "                                     'graph_label_c': graph_label_c\n",
        "                                 })\n"
      ]
    },
    {
      "attachments": {},
      "cell_type": "markdown",
      "metadata": {},
      "source": [
        "## The actual calculator UI is below\n",
        "\n",
        "### Explanation of control elements\n",
        "\n",
        "- `Total AB` - your total attack bonus for your main hand\n",
        "- `Iteratives` - number of iterative attacks (attacked gained due to high BAB, the ones with -5,-10,-15, etc penalty). Value between 0 and 10.\n",
        "- `Bonus attacks` - number of extra full bab attacks, due to Haste, Rapid Shot, Flurry of Blows, etc. If you're dual-wielding and your off-hand has bonus full bab attacks, put them here (provided damage of your offhand is the same)\n",
        "- `TWF attacks` - number of off-hand attacks. Value between 0 and 3.\n",
        "- `TWF Penalty` - if your off-hand attack bonus is not the same as main-hand, input the difference here\n",
        "- `crit range` - lower value of your attack crit range. If you have 15-20 critical range, input 15 here.\n",
        "- `crit mult` - critical multiplier\n",
        "- `crit autoconfirm` - if your critical auto-confirm instead of rolling the dice, set this checkbox to checked\n",
        "- `crit confirm bonus` - if you have bonus to critical confirmation (for example from Critical Focus feat).\n",
        "- `Damage` - your average damage that is multiplied on critical hits\n",
        "- `Non-crit` - additional damage that is not multiplied on crits (sneak attack, force damage from Bane, etc)\n",
        "- `Graph label` - name that your dps graph will have\n",
        "\n",
        "`Comparison mode` - enables comparison mode. Shows parameters for second graph, plots its graph beside the first. Also plots second graph which shows performance of second setup against first setup by dividing damage. 1.0 means setups are the same, > 1.0 means setup 2 is better by that factor against that enemy AC, < 1.0 means it's worse"
      ]
    },
    {
      "cell_type": "code",
      "execution_count": 71,
      "metadata": {
        "trusted": true
      },
      "outputs": [
        {
          "data": {
            "application/vnd.jupyter.widget-view+json": {
              "model_id": "076d199f6e8c40558a128d759eaf9531",
              "version_major": 2,
              "version_minor": 0
            },
            "text/plain": [
              "VBox(children=(VBox(children=(Box(children=(BoundedIntText(value=0, description='Total AB:', max=400, min=-100…"
            ]
          },
          "metadata": {},
          "output_type": "display_data"
        },
        {
          "data": {
            "application/vnd.jupyter.widget-view+json": {
              "model_id": "3e4d9c5b217f4e2ca6a8be9bd99e22e7",
              "version_major": 2,
              "version_minor": 0
            },
            "text/plain": [
              "Output()"
            ]
          },
          "metadata": {},
          "output_type": "display_data"
        }
      ],
      "source": [
        "display(ui_total, out)\n"
      ]
    },
    {
      "cell_type": "code",
      "execution_count": null,
      "metadata": {},
      "outputs": [],
      "source": []
    }
  ],
  "metadata": {
    "kernelspec": {
      "display_name": "Python (Pyodide)",
      "language": "python",
      "name": "python"
    },
    "language_info": {
      "codemirror_mode": {
        "name": "python",
        "version": 3
      },
      "file_extension": ".py",
      "mimetype": "text/x-python",
      "name": "python",
      "nbconvert_exporter": "python",
      "pygments_lexer": "ipython3",
      "version": "3.8"
    }
  },
  "nbformat": 4,
  "nbformat_minor": 4
}
