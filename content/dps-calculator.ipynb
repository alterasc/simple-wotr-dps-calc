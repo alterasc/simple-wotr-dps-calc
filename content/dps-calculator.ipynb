{
  "metadata": {
    "language_info": {
      "codemirror_mode": {
        "name": "python",
        "version": 3
      },
      "file_extension": ".py",
      "mimetype": "text/x-python",
      "name": "python",
      "nbconvert_exporter": "python",
      "pygments_lexer": "ipython3",
      "version": "3.8"
    },
    "kernelspec": {
      "name": "python",
      "display_name": "Python (Pyodide)",
      "language": "python"
    }
  },
  "nbformat_minor": 4,
  "nbformat": 4,
  "cells": [
    {
      "cell_type": "markdown",
      "source": "# Simple DPS calculator for Pathfinder CRPG\n\nHow to use\n1. Use Run -> Run All Cells\n2. Scroll all the way down, input your numbers.\n\nUse \"Comparison mode\" to compare two damage setups.",
      "metadata": {}
    },
    {
      "cell_type": "code",
      "source": "def calc_chances(required_ac, crit_range_threshold = 20, crit_autoconfirm = False, crit_confirm_bonus = 0):\n    effective_ac = required_ac if required_ac < 20 else 20\n    effective_ac = 2 if effective_ac < 2 else effective_ac\n    effective_crit_ac = required_ac - crit_confirm_bonus if required_ac - crit_confirm_bonus < 20 else 20\n    effective_crit_ac = 2 if effective_crit_ac < 2 else effective_crit_ac\n    crit_range = crit_range_threshold if crit_range_threshold >= effective_ac else effective_ac\n    total = 0    \n    crit_confirm_chance = (21.0 - effective_crit_ac) / 20\n    if crit_autoconfirm:\n        crit_confirm_chance = 1\n    return ((21.0 - effective_ac ) / 20, (21.0 - crit_range) / 20, crit_confirm_chance)\n\ndef calc_damage(required_ac, damage, crit_range_threshold = 20, crit_mult = 2, crit_autoconfirm = False, crit_confirm_bonus = 0):\n    to_hit, crit_chance , crit_confirm_chance = calc_chances(required_ac, crit_range_threshold, crit_autoconfirm, crit_confirm_bonus)\n    total = to_hit + crit_chance * crit_confirm_chance * (crit_mult - 1)\n    return damage * total\n\ndef calculate_series(attacks, enemy_ac, damage, crit_range_threshold, crit_mult, crit_autoconfirm, crit_confirm_bonus):\n    total = 0\n    for atk in attacks:\n        total += calc_damage(enemy_ac - atk, damage, crit_range_threshold, crit_mult, crit_autoconfirm, crit_confirm_bonus)\n    return total",
      "metadata": {
        "trusted": true
      },
      "execution_count": 61,
      "outputs": []
    },
    {
      "cell_type": "code",
      "source": "import matplotlib.pyplot as plt\nimport numpy as np\n\ntry:\n    import piplite\n    await piplite.install(['ipywidgets'])\nexcept ImportError:\n    pass\n\nfrom ipywidgets import interact, interactive, fixed, interact_manual\nimport ipywidgets as widgets",
      "metadata": {
        "trusted": true
      },
      "execution_count": 62,
      "outputs": []
    },
    {
      "cell_type": "code",
      "source": "class Attack:\n     def __init__(self, ab: int = 0, dmg: float = 1, add_non_crit_dmg: float = 0, crit_range: int = 20, crit_mult: int = 2, crit_autoconfirm: bool = False, crit_confirm_bonus: int = 0):\n        self.ab = ab\n        self.dmg = dmg\n        self.add_non_crit_dmg = add_non_crit_dmg\n        self.crit_range = crit_range\n        self.crit_mult = crit_mult\n        self.crit_autoconfirm = crit_autoconfirm\n        self.crit_confirm_bonus = crit_confirm_bonus\n        \nclass FullAttack:\n    def __init__(self, ab: int, add_attacks: list[Attack], iteratives: int, bonus_attacks: int, twf_attacks: int\n                 , twf_penalty: int, dmg: float, add_non_crit_dmg: float, crit_range: int, crit_mult: int, crit_autoconfirm: bool, crit_confirm_bonus: int, label):\n        self.ab = ab\n        self.add_attacks = add_attacks\n        self.iteratives = iteratives\n        self.bonus_attacks = bonus_attacks\n        self.twf_attacks = twf_attacks\n        self.dmg = dmg\n        self.add_non_crit_dmg = add_non_crit_dmg\n        self.crit_range = crit_range\n        self.crit_mult = crit_mult\n        self.crit_autoconfirm = crit_autoconfirm\n        self.crit_confirm_bonus = crit_confirm_bonus\n        self.label = label",
      "metadata": {
        "trusted": true
      },
      "execution_count": 63,
      "outputs": []
    },
    {
      "cell_type": "code",
      "source": "def calc_damage_atk(enemy_ac: int, attack: Attack):\n    to_hit, crit_chance , crit_confirm_chance = calc_chances(enemy_ac - attack.ab, attack.crit_range, attack.crit_autoconfirm, attack.crit_confirm_bonus)\n    total = to_hit + crit_chance * crit_confirm_chance * (attack.crit_mult - 1)\n    return attack.dmg * total + to_hit * attack.add_non_crit_dmg\n\ndef calc_damage_fatk(enemy_ac: int, attack: FullAttack):\n    to_hit, crit_chance , crit_confirm_chance = calc_chances(enemy_ac, attack.crit_range, attack.crit_autoconfirm, attack.crit_confirm_bonus)\n    total = to_hit + crit_chance * crit_confirm_chance * (attack.crit_mult - 1)\n    return attack.dmg * total + to_hit * attack.add_non_crit_dmg\n\ndef calculate_full_attack(attacks, enemy_ac: int, full_attack: FullAttack):\n    total = 0\n    for atk in attacks:\n        total += calc_damage_fatk(enemy_ac - atk, full_attack)\n    for batk in full_attack.add_attacks:\n        total += calc_damage_atk(enemy_ac, batk)\n    return total\n\ndef get_attacks(full_attack: FullAttack):\n    attack_list : list[int] = [full_attack.ab]\n    if full_attack.iteratives > 0:\n        for x in range(1, full_attack.iteratives + 1):\n            attack_list.append(full_attack.ab - x * 5)\n    if full_attack.bonus_attacks > 0:\n        for x in range(1, full_attack.bonus_attacks + 1):\n            attack_list.append(full_attack.ab)\n    if full_attack.twf_attacks > 0:\n        for x in range(0, full_attack.twf_attacks):\n            attack_list.append(full_attack.ab - full_attack.twf_penalty- x * 5)\n    return np.array(attack_list)",
      "metadata": {
        "trusted": true
      },
      "execution_count": 64,
      "outputs": []
    },
    {
      "cell_type": "code",
      "source": "def calculate_dps_obj(full_attack_1: FullAttack, draw_2: bool, full_attack_2: FullAttack):    \n    attacks = get_attacks(full_attack_1)\n    ac_min = attacks.min()\n    ac_max = (attacks.max()) + 21\n    \n\n    if draw_2:\n        attacks_2 = get_attacks(full_attack_2)\n        ac_min = min(attacks_2.min(), ac_min)\n        ac_max = max(attacks_2.max() + 21, ac_max)\n        \n    enemy_ac_range = np.arange(ac_min, ac_max, 1)\n    \n    dmg_distr = np.array([calculate_full_attack(attacks, xi, full_attack_1) for xi in enemy_ac_range])            \n    plt.plot(enemy_ac_range, dmg_distr, label=full_attack_1.label)\n    if draw_2:\n        dmg_distr_2 = np.array([calculate_full_attack(attacks_2, xi, full_attack_2) for xi in enemy_ac_range])            \n        plt.plot(enemy_ac_range, dmg_distr_2, label=full_attack_2.label)\n    \n    plt.xlabel('enemy AC')\n    plt.ylabel('damage')\n    plt.grid(True)\n    plt.legend()\n    plt.title('Damage per full attack')\n    plt.ylim(ymin=0)\n    plt.show()    \n        \n    if draw_2:\n        coef_dmg = dmg_distr_2 / dmg_distr\n        plt.plot(enemy_ac_range, coef_dmg, label=full_attack_2.label + \"/\" + full_attack_1.label)\n        plt.xlabel('enemy AC')        \n        plt.ylabel('coef')\n        plt.axhline(y = 1.0, color = 'r', linestyle = '-')\n        plt.grid(True)\n        plt.legend()\n        plt.title('Dps difference')\n        plt.ylim(ymin=0)\n        plt.show()    \n          \n     \n    ",
      "metadata": {
        "trusted": true
      },
      "execution_count": 65,
      "outputs": []
    },
    {
      "cell_type": "code",
      "source": "ab = widgets.BoundedIntText(value=0, min=-100, max=400, description='Total AB:')\niteratives = widgets.BoundedIntText(value=0, min=0, max=10, description='Iteratives:')\nbonus_attacks = widgets.BoundedIntText(value=0, min=0, max=20, description='Bonus attacks:')\ntwf_attacks = widgets.BoundedIntText(value=0, min=0, max=3, description='TWF attacks:')\ntwf_penalty = widgets.BoundedIntText(value=0, min=0, max=12, description='TWF Penalty:')\ncrit_range = widgets.BoundedIntText(value=20, min=0, max=20, description='crit range:')\ncrit_mult = widgets.BoundedIntText(value=2, min=1, max=10, description='crit mult:')\ncrit_autoconfirm = widgets.Checkbox(value=False, description='crit autoconfirm')\ncrit_confirm_bonus = widgets.BoundedIntText(value=0, min=-100, max=100, description='crit confirm bonus:')\n\ndmg = widgets.BoundedFloatText(value=1, min=1, max=1000, description='Damage:')\nadd_non_crit_dmg = widgets.BoundedFloatText(value=0, min=0, max=1000, description='Non-crit:')\n\ngraph_label=widgets.Text(value='setup1', placeholder='Graph label')\n\natk_ui = widgets.Box([ab, iteratives, bonus_attacks, twf_attacks, twf_penalty])\ncrit_ui = widgets.Box([crit_range, crit_mult, crit_autoconfirm, crit_confirm_bonus])\ndmg_ui = widgets.Box([dmg, add_non_crit_dmg, graph_label])\n\nui = widgets.VBox([atk_ui, crit_ui, dmg_ui])\n",
      "metadata": {
        "trusted": true
      },
      "execution_count": 66,
      "outputs": []
    },
    {
      "cell_type": "code",
      "source": "ab_c = widgets.BoundedIntText(value=0, min=-100, max=400, description='Total AB:')\niteratives_c = widgets.BoundedIntText(value=0, min=0, max=10, description='Iteratives:')\nbonus_attacks_c = widgets.BoundedIntText(value=0, min=0, max=20, description='Bonus attacks:')\ntwf_attacks_c = widgets.BoundedIntText(value=0, min=0, max=3, description='TWF attacks:')\ntwf_penalty_c = widgets.BoundedIntText(value=0, min=0, max=12, description='TWF Penalty:')\ncrit_range_c = widgets.BoundedIntText(value=20, min=0, max=20, description='crit range:')\ncrit_mult_c = widgets.BoundedIntText(value=2, min=1, max=10, description='crit mult:')\ncrit_autoconfirm_c = widgets.Checkbox(value=False, description='crit autoconfirm')\ncrit_confirm_bonus_c = widgets.BoundedIntText(value=0, min=-100, max=100, description='crit confirm bonus:')\n\ndmg_c = widgets.BoundedFloatText(value=1, min=1, max=1000, description='Damage:')\nadd_non_crit_dmg_c = widgets.BoundedFloatText(value=0, min=0, max=1000, description='Non-crit:')\n\ngraph_label_c = widgets.Text(value='setup2', placeholder='Graph label')\n\natk_ui_c = widgets.Box([ab_c, iteratives_c, bonus_attacks_c, twf_attacks_c, twf_penalty_c])\ncrit_ui_c = widgets.Box([crit_range_c, crit_mult_c, crit_autoconfirm_c, crit_confirm_bonus_c])\ndmg_ui_c = widgets.Box([dmg_c, add_non_crit_dmg_c, graph_label_c])\n\nui_c = widgets.VBox([atk_ui_c, crit_ui_c, dmg_ui_c])\n",
      "metadata": {
        "trusted": true
      },
      "execution_count": 67,
      "outputs": []
    },
    {
      "cell_type": "markdown",
      "source": "## Section below for adding custom attacks that don't fall under typical main hand\n\nFirst block for setup 1, second block for setup 2\n\nYou will have to re-run cells for those changes to be applied, unlike widget changes, which are reflected immediately on graph",
      "metadata": {}
    },
    {
      "cell_type": "code",
      "source": "add_attack_1 = [\n    # Attack(\n    #     ab = 0,\n    #     dmg = 10,\n    #     add_non_crit_dmg = 0,\n    #     crit_range = 20,\n    #     crit_mult = 2,\n    #     crit_autoconfirm = False,\n    #     crit_confirm_bonus = 0\n    # ),\n    # Attack(\n    #     ab = -5,\n    #     dmg = 15,\n    #     add_non_crit_dmg = 0,\n    #     crit_range = 20,\n    #     crit_mult = 2,\n    #     crit_autoconfirm = False,\n    #     crit_confirm_bonus = 0\n    # )\n]",
      "metadata": {
        "trusted": true
      },
      "execution_count": 68,
      "outputs": []
    },
    {
      "cell_type": "code",
      "source": "add_attack_2 = []",
      "metadata": {
        "trusted": true
      },
      "execution_count": 69,
      "outputs": []
    },
    {
      "cell_type": "code",
      "source": "comparison_mode = widgets.Checkbox(\n    value=False,\n    description='Comparison mode',\n    disabled=False,\n    indent=False\n)\n\nui_total = widgets.VBox([ui, comparison_mode, ui_c])\n\ndef interact_fun(comparison_mode,\n                 ab, iteratives, bonus_attacks, twf_attacks, twf_penalty, dmg, add_non_crit_dmg, crit_range, crit_mult, crit_autoconfirm, crit_confirm_bonus, graph_label,\n                 ab_c, iteratives_c, bonus_attacks_c, twf_attacks_c, twf_penalty_c, dmg_c, add_non_crit_dmg_c, crit_range_c, crit_mult_c, crit_autoconfirm_c, crit_confirm_bonus_c, graph_label_c\n                ):\n    if comparison_mode:\n        ui_c.layout.display = ''        \n    else:\n        ui_c.layout.display = 'none'\n    \n    atk1 = FullAttack(\n        ab=ab,\n        add_attacks=add_attack_1,\n        iteratives=iteratives,\n        bonus_attacks=bonus_attacks,\n        twf_attacks=twf_attacks,\n        twf_penalty=twf_penalty,\n        dmg=dmg,\n        add_non_crit_dmg=add_non_crit_dmg,\n        crit_range=crit_range,\n        crit_mult=crit_mult,\n        crit_autoconfirm=crit_autoconfirm,\n        crit_confirm_bonus=crit_confirm_bonus,\n        label=graph_label\n    )\n    atk2 = FullAttack(\n        ab=ab_c,\n        add_attacks=[],\n        iteratives=iteratives_c,\n        bonus_attacks=bonus_attacks_c,\n        twf_attacks=twf_attacks_c,\n        twf_penalty=twf_penalty_c,\n        dmg=dmg_c,\n        add_non_crit_dmg=add_non_crit_dmg_c,\n        crit_range=crit_range_c,\n        crit_mult=crit_mult_c,\n        crit_autoconfirm=crit_autoconfirm_c,\n        crit_confirm_bonus=crit_confirm_bonus_c,\n        label=graph_label_c\n    )\n    calculate_dps_obj(atk1, comparison_mode, atk2)\n        \n\nout = widgets.interactive_output(interact_fun,\n                                 {\n                                     'comparison_mode': comparison_mode,\n                                     'ab': ab,\n                                     'iteratives': iteratives,\n                                     'bonus_attacks': bonus_attacks,\n                                     'twf_attacks': twf_attacks,\n                                     'twf_penalty': twf_penalty,\n                                     'dmg': dmg,\n                                     'add_non_crit_dmg': add_non_crit_dmg,\n                                     'crit_range': crit_range,\n                                     'crit_mult': crit_mult,\n                                     'crit_autoconfirm': crit_autoconfirm,\n                                     'crit_confirm_bonus': crit_confirm_bonus,\n                                     'graph_label': graph_label,\n                                     \n                                     'ab_c': ab_c,\n                                     'iteratives_c': iteratives_c,\n                                     'bonus_attacks_c': bonus_attacks_c,\n                                     'twf_attacks_c': twf_attacks_c,\n                                     'twf_penalty_c': twf_penalty_c,\n                                     'dmg_c': dmg_c,\n                                     'add_non_crit_dmg_c': add_non_crit_dmg_c,\n                                     'crit_range_c': crit_range_c,\n                                     'crit_mult_c': crit_mult_c,\n                                     'crit_autoconfirm_c': crit_autoconfirm_c,\n                                     'crit_confirm_bonus_c': crit_confirm_bonus_c,\n                                     'graph_label_c': graph_label_c\n                                 })",
      "metadata": {
        "trusted": true
      },
      "execution_count": 70,
      "outputs": []
    },
    {
      "cell_type": "markdown",
      "source": "## The actual calculator UI is below",
      "metadata": {}
    },
    {
      "cell_type": "code",
      "source": "display(ui_total, out)",
      "metadata": {
        "trusted": true
      },
      "execution_count": 71,
      "outputs": [
        {
          "output_type": "display_data",
          "data": {
            "text/plain": "VBox(children=(VBox(children=(Box(children=(BoundedIntText(value=0, description='Total AB:', max=400, min=-100…",
            "application/vnd.jupyter.widget-view+json": {
              "version_major": 2,
              "version_minor": 0,
              "model_id": "076d199f6e8c40558a128d759eaf9531"
            }
          },
          "metadata": {}
        },
        {
          "output_type": "display_data",
          "data": {
            "text/plain": "Output()",
            "application/vnd.jupyter.widget-view+json": {
              "version_major": 2,
              "version_minor": 0,
              "model_id": "3e4d9c5b217f4e2ca6a8be9bd99e22e7"
            }
          },
          "metadata": {}
        }
      ]
    },
    {
      "cell_type": "code",
      "source": "",
      "metadata": {},
      "execution_count": null,
      "outputs": []
    }
  ]
}